{
 "cells": [
  {
   "cell_type": "code",
   "execution_count": 1,
   "metadata": {},
   "outputs": [
    {
     "name": "stdout",
     "output_type": "stream",
     "text": [
      "動画の幅:  2560.0\n",
      "動画の高さ:  1440.0\n",
      "総フレーム数:  119469.0\n",
      "fps:  25.0\n",
      "動画の長さ:  4778.76 [sec]\n"
     ]
    }
   ],
   "source": [
    "import cv2\n",
    "import sys\n",
    "import numpy as np\n",
    "import matplotlib.pyplot as plt\n",
    "import csv\n",
    "import math\n",
    "# ビデオデータの読み込み\n",
    "filename =\"C:\\\\Users\\\\flow\\\\Desktop\\\\Arratia_JNNFM_03032021.mp4\"\n",
    "# 動画の読み込み\n",
    "cap = cv2.VideoCapture(filename=filename)\n",
    "#動画ファイルの情報を取得する\n",
    "width = cap.get(cv2.CAP_PROP_FRAME_WIDTH)\n",
    "hight = cap.get(cv2.CAP_PROP_FRAME_HEIGHT)\n",
    "total_frame = cap.get(cv2.CAP_PROP_FRAME_COUNT)\n",
    "fps = cap.get(cv2.CAP_PROP_FPS)\n",
    "\n",
    "print(\"動画の幅: \", width)\n",
    "print(\"動画の高さ: \", hight)\n",
    "print(\"総フレーム数: \", total_frame)\n",
    "print(\"fps: \", fps)\n",
    "print(\"動画の長さ: \", total_frame/fps, \"[sec]\")\n",
    "\n",
    "#print(type(cap))\n",
    "#print(cap.isOpened())\n",
    "#------------------------------------------------------------------------------------------------------------------\n",
    "#動画の場合\n"
   ]
  },
  {
   "cell_type": "code",
   "execution_count": null,
   "metadata": {},
   "outputs": [],
   "source": []
  }
 ],
 "metadata": {
  "interpreter": {
   "hash": "7ecded1920caace2689e950a42586f995e4fdd46071f406a35d615fd7a883bbd"
  },
  "kernelspec": {
   "display_name": "Python 3.8.5 64-bit ('taguchi': conda)",
   "language": "python",
   "name": "python3"
  },
  "language_info": {
   "codemirror_mode": {
    "name": "ipython",
    "version": 3
   },
   "file_extension": ".py",
   "mimetype": "text/x-python",
   "name": "python",
   "nbconvert_exporter": "python",
   "pygments_lexer": "ipython3",
   "version": "3.8.5"
  },
  "orig_nbformat": 4
 },
 "nbformat": 4,
 "nbformat_minor": 2
}
