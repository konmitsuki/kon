{
 "cells": [
  {
   "cell_type": "code",
   "execution_count": 1,
   "metadata": {},
   "outputs": [],
   "source": [
    "import cv2\n",
    "\n",
    "def get_video_dpi(video_path):\n",
    "    try:\n",
    "        cap = cv2.VideoCapture(video_path)\n",
    "        ret, frame = cap.read()\n",
    "        if ret:\n",
    "            dpi = frame.shape[1]  # 幅をDPI情報として使用\n",
    "            cap.release()\n",
    "            return dpi\n",
    "        else:\n",
    "            cap.release()\n",
    "            return None\n",
    "    except Exception as e:\n",
    "        return str(e)\n",
    "\n",
    "def pixel_to_mm(pixel_value, dpi):\n",
    "    mm_per_inch = 25.4\n",
    "    mm_value = (pixel_value / dpi) * mm_per_inch\n",
    "    return mm_value"
   ]
  }
 ],
 "metadata": {
  "kernelspec": {
   "display_name": "kon",
   "language": "python",
   "name": "python3"
  },
  "language_info": {
   "codemirror_mode": {
    "name": "ipython",
    "version": 3
   },
   "file_extension": ".py",
   "mimetype": "text/x-python",
   "name": "python",
   "nbconvert_exporter": "python",
   "pygments_lexer": "ipython3",
   "version": "3.10.12"
  },
  "orig_nbformat": 4
 },
 "nbformat": 4,
 "nbformat_minor": 2
}
